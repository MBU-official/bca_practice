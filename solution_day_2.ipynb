{
 "cells": [
  {
   "cell_type": "markdown",
   "id": "ad44ba4e",
   "metadata": {},
   "source": [
    "# Day 2 — Arrays, Strings & Math Operations\n",
    "---\n",
    "This notebook contains 35 practice problems covering list manipulation, sorting, searching, mathematical logic, and string patterns. "
   ]
  },
  {
   "cell_type": "markdown",
   "id": "0807f4d8",
   "metadata": {},
   "source": [
    "\n",
    "## Problem 1 — Find second largest number\n",
    "\n",
    "Problem: Given a list of integers, find the second largest number.\n",
    "\n",
    "Input:\n",
    "First line: N (number of elements)\n",
    "Second line: N space-separated integers\n",
    "\n",
    "Output:\n",
    "Second largest number\n",
    "\n",
    "Sample:\n",
    "Input:\n",
    "5\n",
    "1 3 2 5 4\n",
    "Output:\n",
    "4"
   ]
  },
  {
   "cell_type": "code",
   "execution_count": null,
   "id": "27b5a97c",
   "metadata": {},
   "outputs": [],
   "source": [
    "def second_largest(nums):\n",
    "    if len(nums) < 2:\n",
    "        return None\n",
    "    nums = list(set(nums))  # remove duplicates\n",
    "    if len(nums) < 2:\n",
    "        return None\n",
    "    nums.sort(reverse=True)\n",
    "    return nums[1]\n",
    "\n",
    "# print(second_largest([1,3,2,5,4]))  # 4"
   ]
  },
  {
   "cell_type": "markdown",
   "id": "643d9477",
   "metadata": {},
   "source": [
    "**Explanation:** This function finds the second largest unique element in a list. It first checks if the list has at least 2 elements, removes duplicates using set, sorts the unique elements in descending order, and returns the second one if it exists. Time complexity is O(n log n) due to sorting, and space is O(n) for the set and sorted list."
   ]
  },
  {
   "cell_type": "markdown",
   "id": "34956ed1",
   "metadata": {},
   "source": [
    "---\n",
    "\n",
    "## Problem 2 — Remove duplicates from a list\n",
    "\n",
    "Problem: Given a list, return a new list with duplicates removed, preserving order.\n",
    "\n",
    "Input:\n",
    "First line: N\n",
    "Second line: N integers\n",
    "\n",
    "Output:\n",
    "Space-separated unique elements in order\n",
    "\n",
    "Sample:\n",
    "Input:\n",
    "6\n",
    "1 2 2 3 1 4\n",
    "Output:\n",
    "1 2 3 4"
   ]
  },
  {
   "cell_type": "code",
   "execution_count": null,
   "id": "fa728170",
   "metadata": {},
   "outputs": [],
   "source": [
    "def remove_duplicates(nums):\n",
    "    seen = set()\n",
    "    result = []\n",
    "    for num in nums:\n",
    "        if num not in seen:\n",
    "            seen.add(num)\n",
    "            result.append(num)\n",
    "    return result\n",
    "\n",
    "# print(' '.join(map(str, remove_duplicates([1,2,2,3,1,4]))))  # '1 2 3 4'"
   ]
  },
  {
   "cell_type": "markdown",
   "id": "0c43f15b",
   "metadata": {},
   "source": [
    "**Explanation:** This function removes duplicates from a list while preserving the original order of first occurrences. It iterates through the list, using a set to track seen elements, and appends to a result list only if the element hasn't been encountered before. Time complexity is O(n) for the iteration and set operations, space is O(n) for the set and result list."
   ]
  },
  {
   "cell_type": "markdown",
   "id": "48da9da7",
   "metadata": {},
   "source": [
    "---\n",
    "\n",
    "## Problem 3 — Check if two strings are anagrams\n",
    "\n",
    "Problem: Check if two strings are anagrams (same characters, ignoring case and spaces).\n",
    "\n",
    "Input:\n",
    "Two lines: string A and string B\n",
    "\n",
    "Output:\n",
    "'Yes' or 'No'\n",
    "\n",
    "Sample:\n",
    "Input:\n",
    "listen\n",
    "silent\n",
    "Output:\n",
    "Yes"
   ]
  },
  {
   "cell_type": "code",
   "execution_count": null,
   "id": "070ae742",
   "metadata": {},
   "outputs": [],
   "source": [
    "def is_anagram(a, b):\n",
    "    a = ''.join(sorted(a.replace(' ', '').lower()))\n",
    "    b = ''.join(sorted(b.replace(' ', '').lower()))\n",
    "    return a == b\n",
    "\n",
    "# print('Yes' if is_anagram('listen', 'silent') else 'No')  # 'Yes'"
   ]
  },
  {
   "cell_type": "markdown",
   "id": "80da8682",
   "metadata": {},
   "source": [
    "**Explanation:** This function checks if two strings are anagrams by normalizing them: converting to lowercase, removing spaces, sorting the characters, and comparing the sorted strings. If they match, the strings have the same characters with the same frequencies. Time complexity is O(n log n) due to sorting, where n is the string length, and space is O(n) for the sorted strings."
   ]
  },
  {
   "cell_type": "markdown",
   "id": "2c4db751",
   "metadata": {},
   "source": [
    "---\n",
    "\n",
    "## Problem 4 — Sum of digits until a single digit (digital root)\n",
    "\n",
    "Problem: Compute the digital root of a number (sum digits repeatedly until single digit).\n",
    "\n",
    "Input:\n",
    "An integer N\n",
    "\n",
    "Output:\n",
    "Single digit\n",
    "\n",
    "Sample:\n",
    "Input: 123\n",
    "Output: 6"
   ]
  },
  {
   "cell_type": "code",
   "execution_count": null,
   "id": "75437244",
   "metadata": {},
   "outputs": [],
   "source": [
    "def digital_root(n):\n",
    "    while n >= 10:\n",
    "        n = sum(int(d) for d in str(n))\n",
    "    return n\n",
    "\n",
    "# print(digital_root(123))  # 6"
   ]
  },
  {
   "cell_type": "markdown",
   "id": "1077c347",
   "metadata": {},
   "source": [
    "**Explanation:** This function computes the digital root of a number by repeatedly summing its digits until a single digit is obtained. It uses a while loop that continues as long as the number is 10 or more, converting to string to sum digits. Time complexity is O(log n) as the number of digits decreases logarithmically."
   ]
  },
  {
   "cell_type": "markdown",
   "id": "ccbe9227",
   "metadata": {},
   "source": [
    "---\n",
    "\n",
    "## Problem 5 — Find GCD and LCM of two numbers\n",
    "\n",
    "Problem: Given two numbers, find their GCD and LCM.\n",
    "\n",
    "Input:\n",
    "Two integers A B\n",
    "\n",
    "Output:\n",
    "GCD LCM\n",
    "\n",
    "Sample:\n",
    "Input: 12 18\n",
    "Output: 6 36"
   ]
  },
  {
   "cell_type": "code",
   "execution_count": null,
   "id": "5c598e17",
   "metadata": {},
   "outputs": [],
   "source": [
    "def gcd_lcm(a, b):\n",
    "    def gcd(x, y):\n",
    "        while y:\n",
    "            x, y = y, x % y\n",
    "        return x\n",
    "    g = gcd(a, b)\n",
    "    l = abs(a * b) // g\n",
    "    return g, l\n",
    "\n",
    "# g, l = gcd_lcm(12, 18)\n",
    "# print(g, l)  # 6 36"
   ]
  },
  {
   "cell_type": "markdown",
   "id": "9e746dd0",
   "metadata": {},
   "source": [
    "**Explanation:** This function calculates the GCD and LCM of two numbers. It defines a nested GCD function using the Euclidean algorithm, then computes LCM using the formula LCM = |a*b| / GCD. Time complexity is O(log min(a, b)) for the GCD calculation, and space is O(1)."
   ]
  },
  {
   "cell_type": "markdown",
   "id": "c7f7123e",
   "metadata": {},
   "source": [
    "---\n",
    "\n",
    "## Problem 6 — Reverse a list\n",
    "\n",
    "Problem: Reverse the given list.\n",
    "\n",
    "Input:\n",
    "N\n",
    "N integers\n",
    "\n",
    "Output:\n",
    "Reversed list\n",
    "\n",
    "Sample:\n",
    "Input:\n",
    "3\n",
    "1 2 3\n",
    "Output:\n",
    "3 2 1"
   ]
  },
  {
   "cell_type": "code",
   "execution_count": null,
   "id": "4583e7f0",
   "metadata": {},
   "outputs": [],
   "source": [
    "def reverse_list(nums):\n",
    "    return nums[::-1]\n",
    "\n",
    "# print(' '.join(map(str, reverse_list([1,2,3]))))  # '3 2 1'"
   ]
  },
  {
   "cell_type": "markdown",
   "id": "93ae7b1f",
   "metadata": {},
   "source": [
    "**Explanation:** This function reverses a list using Python's list slicing with [::-1], which creates a new list with elements in reverse order. Time complexity is O(n) as it copies all elements, and space complexity is O(n) for the new list."
   ]
  },
  {
   "cell_type": "markdown",
   "id": "15e4aff4",
   "metadata": {},
   "source": [
    "---\n",
    "\n",
    "## Problem 7 — Check if list is sorted\n",
    "\n",
    "Problem: Check if the list is sorted in ascending order.\n",
    "\n",
    "Input:\n",
    "N\n",
    "N integers\n",
    "\n",
    "Output:\n",
    "'Yes' or 'No'\n",
    "\n",
    "Sample:\n",
    "Input:\n",
    "3\n",
    "1 2 3\n",
    "Output:\n",
    "Yes"
   ]
  },
  {
   "cell_type": "code",
   "execution_count": null,
   "id": "8cca00f1",
   "metadata": {},
   "outputs": [],
   "source": [
    "def is_sorted(nums):\n",
    "    return nums == sorted(nums)\n",
    "\n",
    "# print('Yes' if is_sorted([1,2,3]) else 'No')  # 'Yes'"
   ]
  },
  {
   "cell_type": "markdown",
   "id": "d20d936f",
   "metadata": {},
   "source": [
    "**Explanation:** This function checks if a list is sorted in ascending order by comparing the list to its sorted version using sorted(). It returns True if they are equal, indicating the list is already sorted. Time complexity is O(n log n) due to the sorting operation, and space is O(n) for the sorted copy."
   ]
  },
  {
   "cell_type": "markdown",
   "id": "282d8361",
   "metadata": {},
   "source": [
    "---\n",
    "\n",
    "## Problem 8 — Find maximum in list\n",
    "\n",
    "Problem: Find the maximum element in the list.\n",
    "\n",
    "Input:\n",
    "N\n",
    "N integers\n",
    "\n",
    "Output:\n",
    "Maximum value\n",
    "\n",
    "Sample:\n",
    "Input:\n",
    "4\n",
    "1 5 3 2\n",
    "Output:\n",
    "5"
   ]
  },
  {
   "cell_type": "code",
   "execution_count": null,
   "id": "ee6f9e0d",
   "metadata": {},
   "outputs": [],
   "source": [
    "def find_max(nums):\n",
    "    return max(nums)\n",
    "\n",
    "# print(find_max([1,5,3,2]))  # 5"
   ]
  },
  {
   "cell_type": "markdown",
   "id": "be7a573c",
   "metadata": {},
   "source": [
    "**Explanation:** This function finds the maximum element in a list using Python's built-in max() function. It scans the list once to find the largest value. Time complexity is O(n), where n is the list length, and space is O(1)."
   ]
  },
  {
   "cell_type": "markdown",
   "id": "395b7021",
   "metadata": {},
   "source": [
    "---\n",
    "\n",
    "## Problem 9 — Find minimum in list\n",
    "\n",
    "Problem: Find the minimum element in the list.\n",
    "\n",
    "Input:\n",
    "N\n",
    "N integers\n",
    "\n",
    "Output:\n",
    "Minimum value\n",
    "\n",
    "Sample:\n",
    "Input:\n",
    "4\n",
    "1 5 3 2\n",
    "Output:\n",
    "1"
   ]
  },
  {
   "cell_type": "code",
   "execution_count": null,
   "id": "4cd84a87",
   "metadata": {},
   "outputs": [],
   "source": [
    "def find_min(nums):\n",
    "    return min(nums)\n",
    "\n",
    "# print(find_min([1,5,3,2]))  # 1"
   ]
  },
  {
   "cell_type": "markdown",
   "id": "d9714517",
   "metadata": {},
   "source": [
    "**Explanation:** This function finds the minimum element in a list using Python's built-in min() function. It scans the list once to find the smallest value. Time complexity is O(n), where n is the list length, and space is O(1)."
   ]
  },
  {
   "cell_type": "markdown",
   "id": "911d275a",
   "metadata": {},
   "source": [
    "---\n",
    "\n",
    "## Problem 10 — Count occurrences of an element\n",
    "\n",
    "Problem: Count how many times X appears in the list.\n",
    "\n",
    "Input:\n",
    "First line: N X\n",
    "Second line: N integers\n",
    "\n",
    "Output:\n",
    "Count\n",
    "\n",
    "Sample:\n",
    "Input:\n",
    "5 2\n",
    "1 2 2 3 2\n",
    "Output:\n",
    "3"
   ]
  },
  {
   "cell_type": "code",
   "execution_count": null,
   "id": "572192a8",
   "metadata": {},
   "outputs": [],
   "source": [
    "def count_occurrences(nums, x):\n",
    "    return nums.count(x)\n",
    "\n",
    "# print(count_occurrences([1,2,2,3,2], 2))  # 3"
   ]
  },
  {
   "cell_type": "markdown",
   "id": "5b0663c1",
   "metadata": {},
   "source": [
    "**Explanation:** This function counts the number of occurrences of element x in a list using the built-in list.count() method. It iterates through the list to count matches. Time complexity is O(n), where n is the list length, and space is O(1)."
   ]
  },
  {
   "cell_type": "markdown",
   "id": "420c690e",
   "metadata": {},
   "source": [
    "---\n",
    "\n",
    "## Problem 11 — Merge two sorted lists\n",
    "\n",
    "Problem: Merge two sorted lists into one sorted list.\n",
    "\n",
    "Input:\n",
    "First line: N M\n",
    "Second line: N integers (sorted)\n",
    "Third line: M integers (sorted)\n",
    "\n",
    "Output:\n",
    "Merged sorted list\n",
    "\n",
    "Sample:\n",
    "Input:\n",
    "3 3\n",
    "1 3 5\n",
    "2 4 6\n",
    "Output:\n",
    "1 2 3 4 5 6"
   ]
  },
  {
   "cell_type": "code",
   "execution_count": null,
   "id": "8f5a23aa",
   "metadata": {},
   "outputs": [],
   "source": [
    "def merge_sorted(a, b):\n",
    "    i = j = 0\n",
    "    result = []\n",
    "    while i < len(a) and j < len(b):\n",
    "        if a[i] <= b[j]:\n",
    "            result.append(a[i])\n",
    "            i += 1\n",
    "        else:\n",
    "            result.append(b[j])\n",
    "            j += 1\n",
    "    result.extend(a[i:])\n",
    "    result.extend(b[j:])\n",
    "    return result\n",
    "\n",
    "# print(' '.join(map(str, merge_sorted([1,3,5], [2,4,6]))))  # '1 2 3 4 5 6'"
   ]
  },
  {
   "cell_type": "markdown",
   "id": "6886829e",
   "metadata": {},
   "source": [
    "**Explanation:** This function merges two sorted lists into a single sorted list using a two-pointer technique. It initializes pointers for both lists and compares elements, appending the smaller one to the result. After one list is exhausted, it extends the result with the remaining elements. Time complexity is O(m + n), where m and n are the lengths of the input lists, and space is O(m + n) for the output."
   ]
  },
  {
   "cell_type": "markdown",
   "id": "eee2024d",
   "metadata": {},
   "source": [
    "---\n",
    "\n",
    "## Problem 12 — Intersection of two lists\n",
    "\n",
    "Problem: Find intersection of two lists (unique elements).\n",
    "\n",
    "Input:\n",
    "First line: N M\n",
    "Second line: N integers\n",
    "Third line: M integers\n",
    "\n",
    "Output:\n",
    "Sorted intersection\n",
    "\n",
    "Sample:\n",
    "Input:\n",
    "4 4\n",
    "1 2 3 4\n",
    "3 4 5 6\n",
    "Output:\n",
    "3 4"
   ]
  },
  {
   "cell_type": "code",
   "execution_count": null,
   "id": "ecc6ac37",
   "metadata": {},
   "outputs": [],
   "source": [
    "def intersection(a, b):\n",
    "    return sorted(set(a) & set(b))\n",
    "\n",
    "# print(' '.join(map(str, intersection([1,2,3,4], [3,4,5,6]))))  # '3 4'"
   ]
  },
  {
   "cell_type": "markdown",
   "id": "3b36784b",
   "metadata": {},
   "source": [
    "**Explanation:** This function computes the intersection of two lists, returning a sorted list of unique elements common to both. It uses set intersection (&) to find common elements, then sorts the result. Time complexity is O(m + n) for set operations, and space is O(m + n) for the sets."
   ]
  },
  {
   "cell_type": "markdown",
   "id": "e085ead5",
   "metadata": {},
   "source": [
    "---\n",
    "\n",
    "## Problem 13 — Union of two lists\n",
    "\n",
    "Problem: Find union of two lists (unique elements).\n",
    "\n",
    "Input:\n",
    "First line: N M\n",
    "Second line: N integers\n",
    "Third line: M integers\n",
    "\n",
    "Output:\n",
    "Sorted union\n",
    "\n",
    "Sample:\n",
    "Input:\n",
    "4 4\n",
    "1 2 3 4\n",
    "3 4 5 6\n",
    "Output:\n",
    "1 2 3 4 5 6"
   ]
  },
  {
   "cell_type": "code",
   "execution_count": null,
   "id": "7c38ef5a",
   "metadata": {},
   "outputs": [],
   "source": [
    "def union(a, b):\n",
    "    return sorted(set(a) | set(b))\n",
    "\n",
    "# print(' '.join(map(str, union([1,2,3,4], [3,4,5,6]))))  # '1 2 3 4 5 6'"
   ]
  },
  {
   "cell_type": "markdown",
   "id": "0d750854",
   "metadata": {},
   "source": [
    "**Explanation:** This function computes the union of two lists, returning a sorted list of unique elements from both. It uses set union (|) to combine elements, then sorts the result. Time complexity is O(m + n) for set operations, and space is O(m + n) for the sets."
   ]
  },
  {
   "cell_type": "markdown",
   "id": "8be1ce63",
   "metadata": {},
   "source": [
    "---\n",
    "\n",
    "## Problem 14 — Rotate list left by k\n",
    "\n",
    "Problem: Rotate the list left by k positions.\n",
    "\n",
    "Input:\n",
    "First line: N K\n",
    "Second line: N integers\n",
    "\n",
    "Output:\n",
    "Rotated list\n",
    "\n",
    "Sample:\n",
    "Input:\n",
    "5 2\n",
    "1 2 3 4 5\n",
    "Output:\n",
    "3 4 5 1 2"
   ]
  },
  {
   "cell_type": "code",
   "execution_count": null,
   "id": "ceafb1a5",
   "metadata": {},
   "outputs": [],
   "source": [
    "def rotate_left(nums, k):\n",
    "    n = len(nums)\n",
    "    k %= n\n",
    "    return nums[k:] + nums[:k]\n",
    "\n",
    "# print(' '.join(map(str, rotate_left([1,2,3,4,5], 2))))  # '3 4 5 1 2'"
   ]
  },
  {
   "cell_type": "markdown",
   "id": "2aad6ce3",
   "metadata": {},
   "source": [
    "**Explanation:** This function rotates a list to the left by k positions. It normalizes k by taking modulo the list length, then slices the list into the part after k and the part before k, concatenating them. Time complexity is O(n) due to slicing, and space is O(n) for the new list."
   ]
  },
  {
   "cell_type": "markdown",
   "id": "ddcd3b10",
   "metadata": {},
   "source": [
    "---\n",
    "\n",
    "## Problem 15 — Rotate list right by k\n",
    "\n",
    "Problem: Rotate the list right by k positions.\n",
    "\n",
    "Input:\n",
    "First line: N K\n",
    "Second line: N integers\n",
    "\n",
    "Output:\n",
    "Rotated list\n",
    "\n",
    "Sample:\n",
    "Input:\n",
    "5 2\n",
    "1 2 3 4 5\n",
    "Output:\n",
    "4 5 1 2 3"
   ]
  },
  {
   "cell_type": "code",
   "execution_count": null,
   "id": "567c5d72",
   "metadata": {},
   "outputs": [],
   "source": [
    "def rotate_right(nums, k):\n",
    "    n = len(nums)\n",
    "    k %= n\n",
    "    return nums[-k:] + nums[:-k]\n",
    "\n",
    "# print(' '.join(map(str, rotate_right([1,2,3,4,5], 2))))  # '4 5 1 2 3'"
   ]
  },
  {
   "cell_type": "markdown",
   "id": "6a3fc5fc",
   "metadata": {},
   "source": [
    "**Explanation:** This function rotates a list to the right by k positions. It normalizes k by taking modulo the list length, then slices the list into the last k elements and the first n-k elements, concatenating them. Time complexity is O(n) due to slicing, and space is O(n) for the new list."
   ]
  },
  {
   "cell_type": "markdown",
   "id": "264d0f55",
   "metadata": {},
   "source": [
    "---\n",
    "\n",
    "## Problem 16 — Find index of element\n",
    "\n",
    "Problem: Find the first index of X in the list.\n",
    "\n",
    "Input:\n",
    "First line: N X\n",
    "Second line: N integers\n",
    "\n",
    "Output:\n",
    "Index or -1 if not found\n",
    "\n",
    "Sample:\n",
    "Input:\n",
    "5 3\n",
    "1 2 3 4 5\n",
    "Output:\n",
    "2"
   ]
  },
  {
   "cell_type": "code",
   "execution_count": null,
   "id": "49446e4c",
   "metadata": {},
   "outputs": [],
   "source": [
    "def find_index(nums, x):\n",
    "    try:\n",
    "        return nums.index(x)\n",
    "    except ValueError:\n",
    "        return -1\n",
    "\n",
    "# print(find_index([1,2,3,4,5], 3))  # 2"
   ]
  },
  {
   "cell_type": "markdown",
   "id": "2f7933bb",
   "metadata": {},
   "source": [
    "**Explanation:** This function finds the first index of element x in a list using the built-in list.index() method. It catches ValueError if x is not found and returns -1. Time complexity is O(n) as it may scan the entire list, and space is O(1)."
   ]
  },
  {
   "cell_type": "markdown",
   "id": "0ec2c806",
   "metadata": {},
   "source": [
    "---\n",
    "\n",
    "## Problem 17 — Check if list contains duplicates\n",
    "\n",
    "Problem: Check if the list has duplicates.\n",
    "\n",
    "Input:\n",
    "N\n",
    "N integers\n",
    "\n",
    "Output:\n",
    "'Yes' or 'No'\n",
    "\n",
    "Sample:\n",
    "Input:\n",
    "4\n",
    "1 2 2 3\n",
    "Output:\n",
    "Yes"
   ]
  },
  {
   "cell_type": "code",
   "execution_count": null,
   "id": "f31f43a9",
   "metadata": {},
   "outputs": [],
   "source": [
    "def has_duplicates(nums):\n",
    "    return len(nums) != len(set(nums))\n",
    "\n",
    "# print('Yes' if has_duplicates([1,2,2,3]) else 'No')  # 'Yes'"
   ]
  },
  {
   "cell_type": "markdown",
   "id": "647c3286",
   "metadata": {},
   "source": [
    "**Explanation:** This function checks if a list has duplicate elements by comparing the list length to the length of its set (which removes duplicates). If lengths differ, there are duplicates. Time complexity is O(n) for set creation, and space is O(n) for the set."
   ]
  },
  {
   "cell_type": "markdown",
   "id": "4ca7371f",
   "metadata": {},
   "source": [
    "---\n",
    "\n",
    "## Problem 18 — Sort list ascending\n",
    "\n",
    "Problem: Sort the list in ascending order.\n",
    "\n",
    "Input:\n",
    "N\n",
    "N integers\n",
    "\n",
    "Output:\n",
    "Sorted list\n",
    "\n",
    "Sample:\n",
    "Input:\n",
    "4\n",
    "3 1 4 2\n",
    "Output:\n",
    "1 2 3 4"
   ]
  },
  {
   "cell_type": "code",
   "execution_count": null,
   "id": "7bbb54cf",
   "metadata": {},
   "outputs": [],
   "source": [
    "def sort_asc(nums):\n",
    "    return sorted(nums)\n",
    "\n",
    "# print(' '.join(map(str, sort_asc([3,1,4,2]))))  # '1 2 3 4'"
   ]
  },
  {
   "cell_type": "markdown",
   "id": "def98a3c",
   "metadata": {},
   "source": [
    "**Explanation:** This function sorts a list in ascending order using Python's built-in sorted() function, which returns a new sorted list. It uses Timsort with O(n log n) time complexity and O(n) space for the sorted copy."
   ]
  },
  {
   "cell_type": "markdown",
   "id": "eec8cd92",
   "metadata": {},
   "source": [
    "---\n",
    "\n",
    "## Problem 19 — Sort list descending\n",
    "\n",
    "Problem: Sort the list in descending order.\n",
    "\n",
    "Input:\n",
    "N\n",
    "N integers\n",
    "\n",
    "Output:\n",
    "Sorted list\n",
    "\n",
    "Sample:\n",
    "Input:\n",
    "4\n",
    "3 1 4 2\n",
    "Output:\n",
    "4 3 2 1"
   ]
  },
  {
   "cell_type": "code",
   "execution_count": null,
   "id": "39c05a0f",
   "metadata": {},
   "outputs": [],
   "source": [
    "def sort_desc(nums):\n",
    "    return sorted(nums, reverse=True)\n",
    "\n",
    "# print(' '.join(map(str, sort_desc([3,1,4,2]))))  # '4 3 2 1'"
   ]
  },
  {
   "cell_type": "markdown",
   "id": "9bb2b826",
   "metadata": {},
   "source": [
    "**Explanation:** This function sorts a list in descending order using sorted() with reverse=True, returning a new sorted list. Time complexity is O(n log n) due to sorting, and space is O(n) for the copy."
   ]
  },
  {
   "cell_type": "markdown",
   "id": "58fd8639",
   "metadata": {},
   "source": [
    "---\n",
    "\n",
    "## Problem 20 — Find median\n",
    "\n",
    "Problem: Find the median of the list.\n",
    "\n",
    "Input:\n",
    "N\n",
    "N integers\n",
    "\n",
    "Output:\n",
    "Median (float if odd length)\n",
    "\n",
    "Sample:\n",
    "Input:\n",
    "5\n",
    "1 3 2 5 4\n",
    "Output:\n",
    "3"
   ]
  },
  {
   "cell_type": "code",
   "execution_count": null,
   "id": "5cf165ac",
   "metadata": {},
   "outputs": [],
   "source": [
    "def find_median(nums):\n",
    "    nums = sorted(nums)\n",
    "    n = len(nums)\n",
    "    if n % 2 == 1:\n",
    "        return nums[n//2]\n",
    "    else:\n",
    "        return (nums[n//2 - 1] + nums[n//2]) / 2\n",
    "\n",
    "# print(find_median([1,3,2,5,4]))  # 3"
   ]
  },
  {
   "cell_type": "markdown",
   "id": "358e3020",
   "metadata": {},
   "source": [
    "**Explanation:** This function finds the median of a list by sorting it first. For odd length, it returns the middle element; for even, the average of the two middle elements. Time complexity is O(n log n) due to sorting, and space is O(n) for the sorted copy."
   ]
  },
  {
   "cell_type": "markdown",
   "id": "ac812e84",
   "metadata": {},
   "source": [
    "---\n",
    "\n",
    "## Problem 21 — Find mode\n",
    "\n",
    "Problem: Find the mode (most frequent element).\n",
    "\n",
    "Input:\n",
    "N\n",
    "N integers\n",
    "\n",
    "Output:\n",
    "Mode\n",
    "\n",
    "Sample:\n",
    "Input:\n",
    "6\n",
    "1 2 2 3 2 4\n",
    "Output:\n",
    "2"
   ]
  },
  {
   "cell_type": "code",
   "execution_count": null,
   "id": "35541cb7",
   "metadata": {},
   "outputs": [],
   "source": [
    "from collections import Counter\n",
    "def find_mode(nums):\n",
    "    count = Counter(nums)\n",
    "    return count.most_common(1)[0][0]\n",
    "\n",
    "# print(find_mode([1,2,2,3,2,4]))  # 2"
   ]
  },
  {
   "cell_type": "markdown",
   "id": "417d2732",
   "metadata": {},
   "source": [
    "**Explanation:** This function finds the mode (most frequent element) in a list using collections.Counter, which counts frequencies. It returns the element with the highest count. Time complexity is O(n) for counting, and space is O(u) where u is the number of unique elements."
   ]
  },
  {
   "cell_type": "markdown",
   "id": "5fbbf1cf",
   "metadata": {},
   "source": [
    "---\n",
    "\n",
    "## Problem 22 — Check if string is palindrome\n",
    "\n",
    "Problem: Check if the string is a palindrome.\n",
    "\n",
    "Input:\n",
    "A string S\n",
    "\n",
    "Output:\n",
    "'Yes' or 'No'\n",
    "\n",
    "Sample:\n",
    "Input: radar\n",
    "Output: Yes"
   ]
  },
  {
   "cell_type": "code",
   "execution_count": null,
   "id": "ed3724c3",
   "metadata": {},
   "outputs": [],
   "source": [
    "def is_palindrome(s):\n",
    "    return s == s[::-1]\n",
    "\n",
    "# print('Yes' if is_palindrome('radar') else 'No')  # 'Yes'"
   ]
  },
  {
   "cell_type": "markdown",
   "id": "5a41ccb0",
   "metadata": {},
   "source": [
    "**Explanation:** This function checks if a string is a palindrome by comparing it to its reverse using slicing [::-1]. It returns True if they match. Time complexity is O(n) for the comparison, and space is O(n) for the reversed string."
   ]
  },
  {
   "cell_type": "markdown",
   "id": "56cdcb58",
   "metadata": {},
   "source": [
    "---\n",
    "\n",
    "## Problem 23 — Reverse a string\n",
    "\n",
    "Problem: Reverse the string.\n",
    "\n",
    "Input:\n",
    "A string S\n",
    "\n",
    "Output:\n",
    "Reversed string\n",
    "\n",
    "Sample:\n",
    "Input: hello\n",
    "Output: olleh"
   ]
  },
  {
   "cell_type": "code",
   "execution_count": null,
   "id": "a3be43c2",
   "metadata": {},
   "outputs": [],
   "source": [
    "def reverse_string(s):\n",
    "    return s[::-1]\n",
    "\n",
    "# print(reverse_string('hello'))  # 'olleh'"
   ]
  },
  {
   "cell_type": "markdown",
   "id": "7934f636",
   "metadata": {},
   "source": [
    "**Explanation:** This function reverses a string using Python's string slicing [::-1], creating a new reversed string. Time complexity is O(n) as it copies all characters, and space is O(n) for the new string."
   ]
  },
  {
   "cell_type": "markdown",
   "id": "8d6cc7f0",
   "metadata": {},
   "source": [
    "---\n",
    "\n",
    "## Problem 24 — Count vowels in string\n",
    "\n",
    "Problem: Count vowels in the string.\n",
    "\n",
    "Input:\n",
    "A string S\n",
    "\n",
    "Output:\n",
    "Count\n",
    "\n",
    "Sample:\n",
    "Input: hello\n",
    "Output: 2"
   ]
  },
  {
   "cell_type": "code",
   "execution_count": null,
   "id": "30ae813f",
   "metadata": {},
   "outputs": [],
   "source": [
    "def count_vowels(s):\n",
    "    vowels = 'aeiouAEIOU'\n",
    "    return sum(1 for ch in s if ch in vowels)\n",
    "\n",
    "# print(count_vowels('hello'))  # 2"
   ]
  },
  {
   "cell_type": "markdown",
   "id": "da5b7bb5",
   "metadata": {},
   "source": [
    "**Explanation:** This function counts the number of vowels in a string by iterating through each character and summing 1 if it's in the vowels string. Time complexity is O(n), where n is the string length, and space is O(1)."
   ]
  },
  {
   "cell_type": "markdown",
   "id": "6bb87050",
   "metadata": {},
   "source": [
    "---\n",
    "\n",
    "## Problem 25 — Count consonants in string\n",
    "\n",
    "Problem: Count consonants in the string.\n",
    "\n",
    "Input:\n",
    "A string S\n",
    "\n",
    "Output:\n",
    "Count\n",
    "\n",
    "Sample:\n",
    "Input: hello\n",
    "Output: 3"
   ]
  },
  {
   "cell_type": "code",
   "execution_count": null,
   "id": "b47a9602",
   "metadata": {},
   "outputs": [],
   "source": [
    "def count_consonants(s):\n",
    "    vowels = 'aeiouAEIOU'\n",
    "    return sum(1 for ch in s if ch.isalpha() and ch not in vowels)\n",
    "\n",
    "# print(count_consonants('hello'))  # 3"
   ]
  },
  {
   "cell_type": "markdown",
   "id": "b6ea2793",
   "metadata": {},
   "source": [
    "**Explanation:** This function counts consonants in a string by summing 1 for each alphabetic character not in the vowels set. Time complexity is O(n), and space is O(1)."
   ]
  },
  {
   "cell_type": "markdown",
   "id": "b6d4ab2a",
   "metadata": {},
   "source": [
    "---\n",
    "\n",
    "## Problem 26 — Find longest word\n",
    "\n",
    "Problem: Find the longest word in the sentence.\n",
    "\n",
    "Input:\n",
    "A sentence\n",
    "\n",
    "Output:\n",
    "Longest word\n",
    "\n",
    "Sample:\n",
    "Input: I love programming\n",
    "Output: programming"
   ]
  },
  {
   "cell_type": "code",
   "execution_count": null,
   "id": "3881c56a",
   "metadata": {},
   "outputs": [],
   "source": [
    "def longest_word(s):\n",
    "    words = s.split()\n",
    "    return max(words, key=len)\n",
    "\n",
    "# print(longest_word('I love programming'))  # 'programming'"
   ]
  },
  {
   "cell_type": "markdown",
   "id": "baa74c71",
   "metadata": {},
   "source": [
    "**Explanation:** This function finds the longest word in a sentence by splitting into words and using max() with key=len. Time complexity is O(n) for splitting and finding max, and space is O(n) for the words list."
   ]
  },
  {
   "cell_type": "markdown",
   "id": "c8a7655e",
   "metadata": {},
   "source": [
    "---\n",
    "\n",
    "## Problem 27 — Check if contains substring\n",
    "\n",
    "Problem: Check if S contains substring P.\n",
    "\n",
    "Input:\n",
    "First line: S\n",
    "Second line: P\n",
    "\n",
    "Output:\n",
    "'Yes' or 'No'\n",
    "\n",
    "Sample:\n",
    "Input:\n",
    "hello world\n",
    "world\n",
    "Output:\n",
    "Yes"
   ]
  },
  {
   "cell_type": "code",
   "execution_count": null,
   "id": "0ca68744",
   "metadata": {},
   "outputs": [],
   "source": [
    "def contains_substring(s, p):\n",
    "    return p in s\n",
    "\n",
    "# print('Yes' if contains_substring('hello world', 'world') else 'No')  # 'Yes'"
   ]
  },
  {
   "cell_type": "markdown",
   "id": "36a9d43b",
   "metadata": {},
   "source": [
    "**Explanation:** This function checks if a substring p is present in string s using the 'in' operator. Time complexity is O(n*m) in the worst case, where n and m are the lengths of s and p."
   ]
  },
  {
   "cell_type": "markdown",
   "id": "bfe74fb9",
   "metadata": {},
   "source": [
    "---\n",
    "\n",
    "## Problem 28 — Replace substring\n",
    "\n",
    "Problem: Replace all occurrences of P with R in S.\n",
    "\n",
    "Input:\n",
    "First line: S\n",
    "Second line: P R\n",
    "\n",
    "Output:\n",
    "Modified string\n",
    "\n",
    "Sample:\n",
    "Input:\n",
    "hello world\n",
    "world universe\n",
    "Output:\n",
    "hello universe"
   ]
  },
  {
   "cell_type": "code",
   "execution_count": null,
   "id": "271731d8",
   "metadata": {},
   "outputs": [],
   "source": [
    "def replace_substring(s, p, r):\n",
    "    return s.replace(p, r)\n",
    "\n",
    "# print(replace_substring('hello world', 'world', 'universe'))  # 'hello universe'"
   ]
  },
  {
   "cell_type": "markdown",
   "id": "882e1f32",
   "metadata": {},
   "source": [
    "**Explanation:** This function replaces all occurrences of substring p with r in string s using str.replace(). Time complexity is O(n), where n is the length of s, and space is O(n) for the new string."
   ]
  },
  {
   "cell_type": "markdown",
   "id": "f75224e4",
   "metadata": {},
   "source": [
    "---\n",
    "\n",
    "## Problem 29 — Split string into words\n",
    "\n",
    "Problem: Split the string into words.\n",
    "\n",
    "Input:\n",
    "A sentence\n",
    "\n",
    "Output:\n",
    "Words separated by space\n",
    "\n",
    "Sample:\n",
    "Input: hello world\n",
    "Output: hello world"
   ]
  },
  {
   "cell_type": "code",
   "execution_count": null,
   "id": "25890788",
   "metadata": {},
   "outputs": [],
   "source": [
    "def split_words(s):\n",
    "    return s.split()\n",
    "\n",
    "# print(' '.join(split_words('hello world')))  # 'hello world'"
   ]
  },
  {
   "cell_type": "markdown",
   "id": "6733c234",
   "metadata": {},
   "source": [
    "**Explanation:** This function splits a string into a list of words using str.split(), which splits on whitespace. Time complexity is O(n), and space is O(n) for the list."
   ]
  },
  {
   "cell_type": "markdown",
   "id": "3dd871cf",
   "metadata": {},
   "source": [
    "---\n",
    "\n",
    "## Problem 30 — Join words into string\n",
    "\n",
    "Problem: Join the list of words into a string.\n",
    "\n",
    "Input:\n",
    "N\n",
    "N words\n",
    "\n",
    "Output:\n",
    "Joined string\n",
    "\n",
    "Sample:\n",
    "Input:\n",
    "3\n",
    "hello world test\n",
    "Output:\n",
    "hello world test"
   ]
  },
  {
   "cell_type": "code",
   "execution_count": null,
   "id": "df39a45d",
   "metadata": {},
   "outputs": [],
   "source": [
    "def join_words(words):\n",
    "    return ' '.join(words)\n",
    "\n",
    "# print(join_words(['hello', 'world', 'test']))  # 'hello world test'"
   ]
  },
  {
   "cell_type": "markdown",
   "id": "ef379789",
   "metadata": {},
   "source": [
    "**Explanation:** This function joins a list of words into a single string with spaces using ' '.join(). Time complexity is O(n), where n is the total characters, and space is O(n) for the new string."
   ]
  },
  {
   "cell_type": "markdown",
   "id": "af50b25e",
   "metadata": {},
   "source": [
    "---\n",
    "\n",
    "## Problem 31 — Check if prime\n",
    "\n",
    "Problem: Check if N is prime.\n",
    "\n",
    "Input:\n",
    "N\n",
    "\n",
    "Output:\n",
    "'Prime' or 'Not Prime'\n",
    "\n",
    "Sample:\n",
    "Input: 7\n",
    "Output: Prime"
   ]
  },
  {
   "cell_type": "code",
   "execution_count": null,
   "id": "0b0b678c",
   "metadata": {},
   "outputs": [],
   "source": [
    "def is_prime(n):\n",
    "    if n <= 1:\n",
    "        return False\n",
    "    for i in range(2, int(n**0.5) + 1):\n",
    "        if n % i == 0:\n",
    "            return False\n",
    "    return True\n",
    "\n",
    "# print('Prime' if is_prime(7) else 'Not Prime')  # 'Prime'"
   ]
  },
  {
   "cell_type": "markdown",
   "id": "d20e66bd",
   "metadata": {},
   "source": [
    "**Explanation:** This function checks if a number is prime by testing divisibility from 2 to the square root of n. It returns False for n ≤ 1 and True for 2 and 3, then checks for factors. Time complexity is O(√n), and space is O(1)."
   ]
  },
  {
   "cell_type": "markdown",
   "id": "e6364d32",
   "metadata": {},
   "source": [
    "---\n",
    "\n",
    "## Problem 32 — Factorial\n",
    "\n",
    "Problem: Compute N!\n",
    "\n",
    "Input:\n",
    "N\n",
    "\n",
    "Output:\n",
    "N!\n",
    "\n",
    "Sample:\n",
    "Input: 5\n",
    "Output: 120"
   ]
  },
  {
   "cell_type": "code",
   "execution_count": null,
   "id": "91632bf3",
   "metadata": {},
   "outputs": [],
   "source": [
    "def factorial(n):\n",
    "    if n == 0:\n",
    "        return 1\n",
    "    return n * factorial(n-1)\n",
    "\n",
    "# print(factorial(5))  # 120"
   ]
  },
  {
   "cell_type": "markdown",
   "id": "f79a2879",
   "metadata": {},
   "source": [
    "**Explanation:** This function computes factorial recursively: if n == 0 return 1, else n * factorial(n-1). Time complexity is O(n) for n calls, and space is O(n) for the call stack."
   ]
  },
  {
   "cell_type": "markdown",
   "id": "ec1b21c0",
   "metadata": {},
   "source": [
    "---\n",
    "\n",
    "## Problem 33 — Fibonacci\n",
    "\n",
    "Problem: Find the Nth Fibonacci number.\n",
    "\n",
    "Input:\n",
    "N\n",
    "\n",
    "Output:\n",
    "Fib(N)\n",
    "\n",
    "Sample:\n",
    "Input: 6\n",
    "Output: 8"
   ]
  },
  {
   "cell_type": "code",
   "execution_count": null,
   "id": "699cae3c",
   "metadata": {},
   "outputs": [],
   "source": [
    "def fibonacci(n):\n",
    "    if n <= 1:\n",
    "        return n\n",
    "    return fibonacci(n-1) + fibonacci(n-2)\n",
    "\n",
    "# print(fibonacci(6))  # 8"
   ]
  },
  {
   "cell_type": "markdown",
   "id": "769eaea6",
   "metadata": {},
   "source": [
    "**Explanation:** This function computes the nth Fibonacci number recursively: if n ≤ 1 return n, else fib(n-1) + fib(n-2). Time complexity is O(2^n) due to exponential calls, and space is O(n) for the call stack."
   ]
  },
  {
   "cell_type": "markdown",
   "id": "b28ee0a3",
   "metadata": {},
   "source": [
    "---\n",
    "\n",
    "## Problem 34 — Check Armstrong\n",
    "\n",
    "Problem: Check if N is Armstrong.\n",
    "\n",
    "Input:\n",
    "N\n",
    "\n",
    "Output:\n",
    "'Yes' or 'No'\n",
    "\n",
    "Sample:\n",
    "Input: 153\n",
    "Output: Yes"
   ]
  },
  {
   "cell_type": "code",
   "execution_count": null,
   "id": "5e6a5176",
   "metadata": {},
   "outputs": [],
   "source": [
    "def is_armstrong(n):\n",
    "    s = str(n)\n",
    "    return n == sum(int(d)**len(s) for d in s)\n",
    "\n",
    "# print('Yes' if is_armstrong(153) else 'No')  # 'Yes'"
   ]
  },
  {
   "cell_type": "markdown",
   "id": "d944afcc",
   "metadata": {},
   "source": [
    "**Explanation:** This function checks if a number is Armstrong by converting to string, summing each digit raised to the power of the number of digits, and comparing to the original. Time complexity is O(d), where d is the number of digits, and space is O(d) for the string."
   ]
  },
  {
   "cell_type": "markdown",
   "id": "6e820c06",
   "metadata": {},
   "source": [
    "---\n",
    "\n",
    "## Problem 35 — Convert to binary\n",
    "\n",
    "Problem: Convert N to binary string.\n",
    "\n",
    "Input:\n",
    "N\n",
    "\n",
    "Output:\n",
    "Binary string\n",
    "\n",
    "Sample:\n",
    "Input: 5\n",
    "Output: 101"
   ]
  },
  {
   "cell_type": "code",
   "execution_count": null,
   "id": "55fe1e0f",
   "metadata": {},
   "outputs": [],
   "source": [
    "def to_binary(n):\n",
    "    return bin(n)[2:]\n",
    "\n",
    "# print(to_binary(5))  # '101'"
   ]
  },
  {
   "cell_type": "markdown",
   "id": "4c0bc230",
   "metadata": {},
   "source": [
    "**Explanation:** This function converts an integer to its binary string representation without the '0b' prefix using bin()[2:]. Time complexity is O(log n), and space is O(log n) for the string."
   ]
  },
  {
   "cell_type": "markdown",
   "id": "36c15649",
   "metadata": {},
   "source": [
    "---\n",
    "\n",
    "Built by Zaid Kamil with 💖 at MBU  \n",
    "[Connect me on LinkedIn](https://www.linkedin.com/in/zaidbinkamil/)"
   ]
  }
 ],
 "metadata": {
  "kernelspec": {
   "display_name": "python_things",
   "language": "python",
   "name": "python3"
  },
  "language_info": {
   "codemirror_mode": {
    "name": "ipython",
    "version": 3
   },
   "file_extension": ".py",
   "mimetype": "text/x-python",
   "name": "python",
   "nbconvert_exporter": "python",
   "pygments_lexer": "ipython3",
   "version": "3.13.1"
  }
 },
 "nbformat": 4,
 "nbformat_minor": 5
}
