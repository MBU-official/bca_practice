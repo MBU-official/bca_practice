{
 "cells": [
  {
   "cell_type": "markdown",
   "id": "389ae97c",
   "metadata": {},
   "source": [
    "# Day 1 — Python Logic & Core Syntax Refresher\n",
    "\n",
    "This notebook contains 35 practice problems covering input/output, data types, loops, conditionals, lists, tuples, dictionaries, sets, and string operations\n",
    "\n",
    "---"
   ]
  },
  {
   "cell_type": "code",
   "execution_count": 1,
   "id": "47f0d9ec",
   "metadata": {},
   "outputs": [],
   "source": [
    "def sum_of_n(nums):\n",
    "    \"\"\"Return sum of list nums.\n",
    "    Args: nums (list[int])\n",
    "    Returns: int\n",
    "    \"\"\"\n",
    "    return sum(nums)\n",
    "\n",
    "# I/O example:\n",
    "# n = int(input())\n",
    "# arr = list(map(int, input().split()))\n",
    "# print(sum_of_n(arr))"
   ]
  },
  {
   "cell_type": "markdown",
   "id": "cddc6973",
   "metadata": {},
   "source": [
    "**Explanation:** This function calculates the sum of a list of numbers using Python's built-in `sum()` function. It takes a list of integers as input and returns the total sum as an integer. The approach is straightforward and efficient with O(n) time complexity, where n is the length of the input list. The commented I/O example shows how to read input from stdin and print the result."
   ]
  },
  {
   "cell_type": "markdown",
   "id": "c2499dd1",
   "metadata": {},
   "source": [
    "---\n",
    "\n",
    "## Problem 2 — Average of N numbers (2 decimal places)\n",
    "\n",
    "Problem: Read N and N integers. Print average rounded to 2 decimals.\n",
    "\n",
    "Input:\n",
    "N\n",
    "a1 ... aN\n",
    "\n",
    "Output:\n",
    "Average with 2 decimal places.\n",
    "\n",
    "Sample:\n",
    "Input:\n",
    "4\n",
    "1 2 3 4\n",
    "Output:\n",
    "2.50"
   ]
  },
  {
   "cell_type": "code",
   "execution_count": null,
   "id": "c1728d22",
   "metadata": {},
   "outputs": [],
   "source": [
    "def average_of_n(nums):\n",
    "    if not nums:\n",
    "        return '0.00'\n",
    "    avg = sum(nums)/len(nums)\n",
    "    return f\"{avg:.2f}\"\n",
    "\n",
    "# Example I/O:\n",
    "# print(average_of_n([1,2,3,4]))  # '2.50'"
   ]
  },
  {
   "cell_type": "markdown",
   "id": "abbbfe9d",
   "metadata": {},
   "source": [
    "**Explanation:** This function calculates the average of a list of numbers and returns it as a string formatted to 2 decimal places. It checks for an empty list and returns '0.00' in that case. The average is computed by summing the elements and dividing by the length, then formatted using an f-string for precise decimal representation. The time complexity is O(n) because of the sum operation over the list."
   ]
  },
  {
   "cell_type": "markdown",
   "id": "f997c498",
   "metadata": {},
   "source": [
    "---\n",
    "\n",
    "## Problem 3 — Reverse a string\n",
    "\n",
    "Problem: Read a string and print its reverse.\n",
    "\n",
    "Input:\n",
    "A single string s\n",
    "\n",
    "Output:\n",
    "Reversed string\n",
    "\n",
    "Sample:\n",
    "Input: hello\n",
    "Output: olleh"
   ]
  },
  {
   "cell_type": "code",
   "execution_count": 1,
   "id": "6cd91ed6",
   "metadata": {},
   "outputs": [],
   "source": [
    "def reverse_string(s):\n",
    "    return s[::-1]\n",
    "\n",
    "# print(reverse_string('hello'))  # 'olleh'"
   ]
  },
  {
   "cell_type": "markdown",
   "id": "e1292112",
   "metadata": {},
   "source": [
    "**Explanation:** This function reverses a string using Python's string slicing with [::-1], which creates a new string with characters in reverse order. It takes a string as input and returns the reversed version. This approach is concise and efficient, with O(n) time complexity where n is the length of the string, as it involves creating a new string of the same size."
   ]
  },
  {
   "cell_type": "markdown",
   "id": "71d8f21b",
   "metadata": {},
   "source": [
    "---\n",
    "\n",
    "## Problem 4 — Count vowels and consonants\n",
    "\n",
    "Problem: Given a string (alphabetic), print number of vowels and consonants separated by a space.\n",
    "\n",
    "Input: a single word\n",
    "Output: two integers: vowels consonants\n",
    "\n",
    "Sample:\n",
    "Input: hello\n",
    "Output: 2 3"
   ]
  },
  {
   "cell_type": "code",
   "execution_count": null,
   "id": "a59b53cb",
   "metadata": {},
   "outputs": [],
   "source": [
    "def count_vowels_consonants(s):\n",
    "    vowels = set('aeiouAEIOU')\n",
    "    v = sum(1 for ch in s if ch in vowels)\n",
    "    c = sum(1 for ch in s if ch.isalpha() and ch not in vowels)\n",
    "    return v, c\n",
    "\n",
    "# print(count_vowels_consonants('hello'))  # (2,3)"
   ]
  },
  {
   "cell_type": "markdown",
   "id": "c61174d0",
   "metadata": {},
   "source": [
    "**Explanation:** This function counts the vowels and consonants in a given string. It uses a set for vowels (both lowercase and uppercase) and employs generator expressions with the sum function to count occurrences efficiently. Vowels are identified by membership in the set, while consonants are alphabetic characters not in the vowel set. It returns a tuple (vowels_count, consonants_count). The time complexity is O(n), where n is the string length, due to a single pass through the characters."
   ]
  },
  {
   "cell_type": "markdown",
   "id": "23050570",
   "metadata": {},
   "source": [
    "---\n",
    "\n",
    "## Problem 5 — Check if a number is palindrome\n",
    "\n",
    "Problem: Given integer n, print 'Yes' if palindrome else 'No'.\n",
    "\n",
    "Sample: 121 -> Yes, 123 -> No"
   ]
  },
  {
   "cell_type": "code",
   "execution_count": null,
   "id": "1ae4d341",
   "metadata": {},
   "outputs": [],
   "source": [
    "def is_palindrome_number(n):\n",
    "    s = str(n)\n",
    "    return s == s[::-1]\n",
    "\n",
    "# print('Yes' if is_palindrome_number(121) else 'No')"
   ]
  },
  {
   "cell_type": "markdown",
   "id": "9b91dc5d",
   "metadata": {},
   "source": [
    "**Explanation:** This function determines if a given integer is a palindrome by converting it to a string and comparing the string with its reverse using slicing [::-1]. It returns True if the number reads the same forwards and backwards, otherwise False. This method is straightforward and has O(d) time complexity, where d is the number of digits in the number, due to string conversion and comparison."
   ]
  },
  {
   "cell_type": "markdown",
   "id": "a28b1ad5",
   "metadata": {},
   "source": [
    "---\n",
    "\n",
    "## Problem 6 — Left star pyramid\n",
    "\n",
    "Problem: Given N, print left-aligned star pyramid of N rows.\n",
    "Sample N=3:\n",
    "*\n",
    "**\n",
    "***"
   ]
  },
  {
   "cell_type": "code",
   "execution_count": null,
   "id": "a946608e",
   "metadata": {},
   "outputs": [
    {
     "name": "stdout",
     "output_type": "stream",
     "text": [
      "*\n",
      "**\n",
      "***\n",
      "****\n"
     ]
    },
    {
     "ename": "",
     "evalue": "",
     "output_type": "error",
     "traceback": [
      "\u001b[1;31mThe Kernel crashed while executing code in the current cell or a previous cell. \n",
      "\u001b[1;31mPlease review the code in the cell(s) to identify a possible cause of the failure. \n",
      "\u001b[1;31mClick <a href='https://aka.ms/vscodeJupyterKernelCrash'>here</a> for more info. \n",
      "\u001b[1;31mView Jupyter <a href='command:jupyter.viewOutput'>log</a> for further details."
     ]
    }
   ],
   "source": [
    "def star_pyramid(n):\n",
    "    for i in range(1,5):\n",
    "        print('*'*i)\n",
    "star_pyramid(3)"
   ]
  },
  {
   "cell_type": "markdown",
   "id": "a236acb3",
   "metadata": {},
   "source": [
    "**Explanation:** This function creates a left-aligned star pyramid pattern for a given number n, returning a list of strings where each string consists of i asterisks for i from 1 to n. It uses a list comprehension for concise generation. The time complexity is O(n) for creating the list, but the space complexity is O(n^2) due to storing the strings in the output list."
   ]
  },
  {
   "cell_type": "markdown",
   "id": "0be3ef6e",
   "metadata": {},
   "source": [
    "---\n",
    "\n",
    "## Problem 8 — Factorial (iterative)\n",
    "\n",
    "Input: non-negative integer n\n",
    "Output: n!\n",
    "\n",
    "Sample: 5 -> 120"
   ]
  },
  {
   "cell_type": "code",
   "execution_count": null,
   "id": "8c792722",
   "metadata": {},
   "outputs": [],
   "source": [
    "def factorial(n):\n",
    "    res = 1\n",
    "    for i in range(2, n+1):\n",
    "        res *= i\n",
    "    return res\n",
    "\n",
    "# print(factorial(5))  # 120"
   ]
  },
  {
   "cell_type": "markdown",
   "id": "fc4ddfe9",
   "metadata": {},
   "source": [
    "**Explanation:** This function calculates the factorial of a non-negative integer using an iterative approach. It starts with result = 1 and multiplies it by each integer from 2 to n in a for loop. This avoids recursion and is efficient with O(n) time complexity and O(1) space complexity, as it only uses a constant amount of extra space."
   ]
  },
  {
   "cell_type": "markdown",
   "id": "fff2329d",
   "metadata": {},
   "source": [
    "---\n",
    "\n",
    "## Problem 9 — N-th Fibonacci (iterative)\n",
    "\n",
    "Input: n (0-based index)\n",
    "Output: nth Fibonacci number\n",
    "\n",
    "Sample: n=6 -> 8"
   ]
  },
  {
   "cell_type": "code",
   "execution_count": null,
   "id": "e7d8e484",
   "metadata": {},
   "outputs": [],
   "source": [
    "def fib(n):\n",
    "    a, b = 0, 1\n",
    "    for _ in range(n):\n",
    "        a, b = b, a + b\n",
    "    return a\n",
    "\n",
    "# print(fib(6))  # 8"
   ]
  },
  {
   "cell_type": "markdown",
   "id": "b787d452",
   "metadata": {},
   "source": [
    "**Explanation:** This function computes the nth Fibonacci number (where n is 0-based index) using an iterative method. It initializes a=0, b=1 and performs n iterations of updating a and b to b and a+b respectively. Finally returns a. This approach has O(n) time complexity and O(1) space complexity, making it efficient for computing Fibonacci numbers without recursion."
   ]
  },
  {
   "cell_type": "markdown",
   "id": "8f61774d",
   "metadata": {},
   "source": [
    "---\n",
    "\n",
    "## Problem 10 — Prime check\n",
    "\n",
    "Input: integer n (>1)\n",
    "Output: 'Prime' or 'Not Prime'\n",
    "\n",
    "Sample: 7 -> Prime"
   ]
  },
  {
   "cell_type": "code",
   "execution_count": null,
   "id": "2613b930",
   "metadata": {},
   "outputs": [],
   "source": [
    "def is_prime(n):\n",
    "    if n <= 1:\n",
    "        return False\n",
    "    if n <= 3:\n",
    "        return True\n",
    "    if n % 2 == 0 or n % 3 == 0:\n",
    "        return False\n",
    "    i = 5\n",
    "    while i * i <= n:\n",
    "        if n % i == 0 or n % (i + 2) == 0:\n",
    "            return False\n",
    "        i += 6\n",
    "    return True\n",
    "\n",
    "# print(is_prime(7))  # True"
   ]
  },
  {
   "cell_type": "markdown",
   "id": "dbed0158",
   "metadata": {},
   "source": [
    "**Explanation:** This function checks if an integer greater than 1 is prime using an optimized trial division method. It first handles numbers ≤ 3, then eliminates even numbers and multiples of 3. For larger numbers, it checks divisibility by numbers of the form 6k±1 up to the square root of n. This reduces unnecessary checks and achieves O(√n) time complexity, which is efficient for primality testing."
   ]
  },
  {
   "cell_type": "markdown",
   "id": "388da2a6",
   "metadata": {},
   "source": [
    "---\n",
    "\n",
    "## Problem 11 — Unique elements of a list\n",
    "\n",
    "Read a list and return the list of unique elements in their original order.\n",
    "\n",
    "Sample: [1,2,2,3] -> [1,2,3]"
   ]
  },
  {
   "cell_type": "code",
   "execution_count": null,
   "id": "d870b6cd",
   "metadata": {},
   "outputs": [],
   "source": [
    "def unique_preserve(nums):\n",
    "    seen = set()\n",
    "    out = []\n",
    "    for x in nums:\n",
    "        if x not in seen:\n",
    "            seen.add(x)\n",
    "            out.append(x)\n",
    "    return out\n",
    "\n",
    "# print(unique_preserve([1,2,2,3]))  # [1,2,3]"
   ]
  },
  {
   "cell_type": "markdown",
   "id": "4dc5e955",
   "metadata": {},
   "source": [
    "**Explanation:** This function removes duplicates from a list while preserving the original order of first occurrences. It iterates through the list, using a set to track seen elements, and appends to a new list only if the element hasn't been seen before. This results in O(n) time complexity for the iteration and set operations, and O(n) space for the set and output list."
   ]
  },
  {
   "cell_type": "markdown",
   "id": "f5c60f43",
   "metadata": {},
   "source": [
    "---\n",
    "\n",
    "## Problem 12 — Remove duplicates (set)\n",
    "\n",
    "Return unique elements using a set (order not guaranteed).\n",
    "\n",
    "Sample: [1,2,2,3] -> {1,2,3}"
   ]
  },
  {
   "cell_type": "code",
   "execution_count": null,
   "id": "75aa46d9",
   "metadata": {},
   "outputs": [],
   "source": [
    "def to_set(nums):\n",
    "    return set(nums)\n",
    "\n",
    "# print(to_set([1,2,2,3]))  # {1,2,3}"
   ]
  },
  {
   "cell_type": "markdown",
   "id": "983fdd5b",
   "metadata": {},
   "source": [
    "**Explanation:** This function converts a list to a set, which automatically removes duplicates. Since sets are unordered in Python, the order of elements is not preserved. It uses Python's built-in set() constructor, resulting in O(n) time complexity for the conversion and O(n) space for storing the unique elements."
   ]
  },
  {
   "cell_type": "markdown",
   "id": "ef2d8513",
   "metadata": {},
   "source": [
    "---\n",
    "\n",
    "## Problem 13 — Max and Min in list\n",
    "\n",
    "Given a list, print its maximum and minimum.\n",
    "\n",
    "Sample: [3,1,4] -> Max=4 Min=1"
   ]
  },
  {
   "cell_type": "code",
   "execution_count": null,
   "id": "739e2a76",
   "metadata": {},
   "outputs": [],
   "source": [
    "def max_min(nums):\n",
    "    return max(nums), min(nums)\n",
    "\n",
    "# print(max_min([3,1,4]))  # (4,1)"
   ]
  },
  {
   "cell_type": "markdown",
   "id": "ddaf34cd",
   "metadata": {},
   "source": [
    "**Explanation:** This function finds the maximum and minimum values in a list using Python's built-in max() and min() functions. It returns a tuple containing the maximum and minimum values. This approach is simple and efficient with O(n) time complexity, as both functions scan the list once to find the extreme values."
   ]
  },
  {
   "cell_type": "markdown",
   "id": "b603dc19",
   "metadata": {},
   "source": [
    "---\n",
    "\n",
    "## Problem 14 — Sort a list (ascending)\n",
    "\n",
    "Return sorted list.\n",
    "\n",
    "Sample: [3,1,2] -> [1,2,3]"
   ]
  },
  {
   "cell_type": "code",
   "execution_count": null,
   "id": "98f8419e",
   "metadata": {},
   "outputs": [],
   "source": [
    "def sort_list(nums):\n",
    "    return sorted(nums)\n",
    "\n",
    "# print(sort_list([3,1,2]))  # [1,2,3]"
   ]
  },
  {
   "cell_type": "markdown",
   "id": "b6c88068",
   "metadata": {},
   "source": [
    "**Explanation:** This function sorts a list of numbers in ascending order using Python's built-in sorted() function, which returns a new sorted list without modifying the original. It uses Timsort algorithm internally, resulting in O(n log n) time complexity for average and worst cases, making it efficient for sorting lists."
   ]
  },
  {
   "cell_type": "markdown",
   "id": "5b87f589",
   "metadata": {},
   "source": [
    "---\n",
    "\n",
    "## Problem 15 — Rotate list right by k\n",
    "\n",
    "Given list and k, rotate right by k positions.\n",
    "\n",
    "Sample: [1,2,3,4], k=1 -> [4,1,2,3]"
   ]
  },
  {
   "cell_type": "code",
   "execution_count": null,
   "id": "00d9921c",
   "metadata": {},
   "outputs": [],
   "source": [
    "def rotate_right(nums, k):\n",
    "    n = len(nums)\n",
    "    k %= n if n else 0\n",
    "    return nums[-k:] + nums[:-k] if n else nums\n",
    "\n",
    "# print(rotate_right([1,2,3,4],1))  # [4,1,2,3]"
   ]
  },
  {
   "cell_type": "markdown",
   "id": "6ee9aade",
   "metadata": {},
   "source": [
    "**Explanation:** This function rotates a list to the right by k positions. It first normalizes k by taking modulo the list length to handle large k values. Then it slices the list into the last k elements and the first len-k elements, concatenating them. For empty lists, it returns the list as is. Time complexity is O(n) due to slicing, and space complexity is O(n) for the new list."
   ]
  },
  {
   "cell_type": "markdown",
   "id": "2f018b04",
   "metadata": {},
   "source": [
    "---\n",
    "\n",
    "## Problem 16 — Merge two sorted lists\n",
    "\n",
    "Given two sorted lists, return merged sorted list.\n",
    "\n",
    "Sample: [1,3], [2,4] -> [1,2,3,4]"
   ]
  },
  {
   "cell_type": "code",
   "execution_count": null,
   "id": "936098ad",
   "metadata": {},
   "outputs": [],
   "source": [
    "def merge_sorted(a, b):\n",
    "    i = j = 0\n",
    "    out = []\n",
    "    while i < len(a) and j < len(b):\n",
    "        if a[i] <= b[j]:\n",
    "            out.append(a[i]); i += 1\n",
    "        else:\n",
    "            out.append(b[j]); j += 1\n",
    "    out.extend(a[i:]); out.extend(b[j:])\n",
    "    return out\n",
    "\n",
    "# print(merge_sorted([1,3],[2,4]))  # [1,2,3,4]"
   ]
  },
  {
   "cell_type": "markdown",
   "id": "f03d1b52",
   "metadata": {},
   "source": [
    "**Explanation:** This function merges two sorted lists into a single sorted list using a two-pointer technique. It initializes pointers for both lists and compares elements, appending the smaller one to the result. After one list is exhausted, it extends the result with the remaining elements from the other list. Time complexity is O(m + n), where m and n are the lengths of the input lists, and space complexity is O(m + n) for the output list."
   ]
  },
  {
   "cell_type": "markdown",
   "id": "4cf6186f",
   "metadata": {},
   "source": [
    "---\n",
    "\n",
    "## Problem 17 — Intersection of two lists\n",
    "\n",
    "Return intersection (unique) of two lists.\n",
    "\n",
    "Sample: [1,2,3], [2,3,4] -> {2,3}"
   ]
  },
  {
   "cell_type": "code",
   "execution_count": null,
   "id": "60aaca0d",
   "metadata": {},
   "outputs": [],
   "source": [
    "def intersection(a, b):\n",
    "    return set(a) & set(b)\n",
    "\n",
    "# print(intersection([1,2,3],[2,3,4]))  # {2,3}"
   ]
  },
  {
   "cell_type": "markdown",
   "id": "7c83c49b",
   "metadata": {},
   "source": [
    "**Explanation:** This function computes the intersection of two lists, returning a set of elements common to both. It uses Python's set intersection operator (&) after converting both lists to sets. This approach is efficient with O(m + n) time complexity for set creation and O(min(m, n)) for intersection, and O(m + n) space for the sets."
   ]
  },
  {
   "cell_type": "markdown",
   "id": "510a2cf7",
   "metadata": {},
   "source": [
    "---\n",
    "\n",
    "## Problem 18 — Union of two lists\n",
    "\n",
    "Return union (unique) of two lists.\n",
    "\n",
    "Sample: [1,2], [2,3] -> {1,2,3}"
   ]
  },
  {
   "cell_type": "code",
   "execution_count": null,
   "id": "33ea8c5d",
   "metadata": {},
   "outputs": [],
   "source": [
    "def union(a, b):\n",
    "    return set(a) | set(b)\n",
    "\n",
    "# print(union([1,2],[2,3]))  # {1,2,3}"
   ]
  },
  {
   "cell_type": "markdown",
   "id": "c5d48302",
   "metadata": {},
   "source": [
    "**Explanation:** This function computes the union of two lists, returning a set containing all unique elements from both lists. It uses Python's set union operator (|) after converting the lists to sets. The time complexity is O(m + n) for creating the sets and performing the union, and space complexity is O(m + n) for storing the sets."
   ]
  },
  {
   "cell_type": "markdown",
   "id": "f5688a8d",
   "metadata": {},
   "source": [
    "---\n",
    "\n",
    "## Problem 19 — Tuple unpacking example\n",
    "\n",
    "Given a pair, swap values using tuple unpacking and return swapped pair.\n",
    "\n",
    "Sample: (1,2) -> (2,1)"
   ]
  },
  {
   "cell_type": "code",
   "execution_count": null,
   "id": "e6d9c76a",
   "metadata": {},
   "outputs": [],
   "source": [
    "def swap_pair(pair):\n",
    "    a, b = pair\n",
    "    a, b = b, a\n",
    "    return a, b\n",
    "\n",
    "# print(swap_pair((1,2)))  # (2,1)"
   ]
  },
  {
   "cell_type": "markdown",
   "id": "9a512a25",
   "metadata": {},
   "source": [
    "**Explanation:** This function demonstrates swapping two values in a tuple using Python's tuple unpacking feature. It unpacks the input pair into a and b, then swaps them with a, b = b, a, and returns the swapped pair. This is a concise way to swap variables without a temporary variable, with O(1) time and space complexity."
   ]
  },
  {
   "cell_type": "markdown",
   "id": "8ad3da04",
   "metadata": {},
   "source": [
    "---\n",
    "\n",
    "## Problem 20 — Dictionary: frequency count of words\n",
    "\n",
    "Given a sentence, return a dict mapping word -> frequency.\n",
    "\n",
    "Sample: 'a a b' -> {'a':2,'b':1}"
   ]
  },
  {
   "cell_type": "code",
   "execution_count": null,
   "id": "4c2f15e0",
   "metadata": {},
   "outputs": [],
   "source": [
    "def word_freq(s):\n",
    "    words = s.split()\n",
    "    d = {}\n",
    "    for w in words:\n",
    "        d[w] = d.get(w, 0) + 1\n",
    "    return d\n",
    "\n",
    "# print(word_freq('a a b'))  # {'a':2, 'b':1}"
   ]
  },
  {
   "cell_type": "markdown",
   "id": "06f5cf6c",
   "metadata": {},
   "source": [
    "**Explanation:** This function creates a frequency dictionary for words in a given sentence. It splits the sentence into words, then iterates through them, using dict.get() to increment counts. This builds a mapping from word to its occurrence count. Time complexity is O(n) where n is the total characters in the sentence, and space complexity is O(u) where u is the number of unique words."
   ]
  },
  {
   "cell_type": "markdown",
   "id": "b27341ea",
   "metadata": {},
   "source": [
    "---\n",
    "\n",
    "## Problem 21 — Count occurrences of substring\n",
    "\n",
    "Given text and pattern, return number of (possibly overlapping) occurrences.\n",
    "\n",
    "Sample: 'aaa', 'aa' -> 2"
   ]
  },
  {
   "cell_type": "code",
   "execution_count": null,
   "id": "e3f6da80",
   "metadata": {},
   "outputs": [],
   "source": [
    "def count_substring(text, pat):\n",
    "    count = start = 0\n",
    "    while True:\n",
    "        start = text.find(pat, start)\n",
    "        if start == -1:\n",
    "            break\n",
    "        count += 1\n",
    "        start += 1  # allow overlap\n",
    "    return count\n",
    "\n",
    "# print(count_substring('aaa','aa'))  # 2"
   ]
  },
  {
   "cell_type": "markdown",
   "id": "841b7219",
   "metadata": {},
   "source": [
    "**Explanation:** This function counts the number of (possibly overlapping) occurrences of a substring (pattern) in a given text. It uses a while loop with str.find(), starting from the current position and incrementing by 1 to allow overlaps. Each find increments the count and updates the start position. Time complexity is O((n-m+1) * m) in the worst case, where n is text length and m is pattern length, due to repeated find operations."
   ]
  },
  {
   "cell_type": "markdown",
   "id": "8f8526ea",
   "metadata": {},
   "source": [
    "---\n",
    "\n",
    "## Problem 22 — Capitalize first letter of each word\n",
    "\n",
    "Given a sentence, return it in title case.\n",
    "\n",
    "Sample: 'hello world' -> 'Hello World'"
   ]
  },
  {
   "cell_type": "code",
   "execution_count": null,
   "id": "f370c659",
   "metadata": {},
   "outputs": [],
   "source": [
    "def title_case(s):\n",
    "    return ' '.join(w.capitalize() for w in s.split())\n",
    "\n",
    "# print(title_case('hello world'))  # 'Hello World'"
   ]
  },
  {
   "cell_type": "markdown",
   "id": "fa0b095d",
   "metadata": {},
   "source": [
    "**Explanation:** This function converts a sentence to title case, where the first letter of each word is capitalized. It splits the sentence into words, applies str.capitalize() to each word, and joins them back with spaces. This handles basic title casing efficiently with O(n) time complexity, where n is the length of the sentence."
   ]
  },
  {
   "cell_type": "markdown",
   "id": "3675b2fd",
   "metadata": {},
   "source": [
    "---\n",
    "\n",
    "## Problem 23 — Swap two variables without temp\n",
    "\n",
    "Given a and b return swapped values using tuple unpacking.\n",
    "\n",
    "Sample: 1,2 -> 2,1"
   ]
  },
  {
   "cell_type": "code",
   "execution_count": null,
   "id": "a38377d1",
   "metadata": {},
   "outputs": [],
   "source": [
    "def swap(a, b):\n",
    "    a, b = b, a\n",
    "    return a, b\n",
    "\n",
    "# print(swap(1,2))  # (2,1)"
   ]
  },
  {
   "cell_type": "markdown",
   "id": "668e321b",
   "metadata": {},
   "source": [
    "**Explanation:** This function swaps two values using Python's tuple unpacking without a temporary variable. It assigns a, b = b, a in one line, then returns the swapped values. This is a clean and efficient way to swap variables with O(1) time and space complexity."
   ]
  },
  {
   "cell_type": "markdown",
   "id": "4ae6785f",
   "metadata": {},
   "source": [
    "---\n",
    "\n",
    "## Problem 24 — Armstrong number check (3-digit)\n",
    "\n",
    "Check if a 3-digit number is Armstrong (sum of cubes of digits equals number).\n",
    "\n",
    "Sample: 153 -> True"
   ]
  },
  {
   "cell_type": "code",
   "execution_count": null,
   "id": "07971c52",
   "metadata": {},
   "outputs": [],
   "source": [
    "def is_armstrong_3(n):\n",
    "    s = str(n)\n",
    "    return n == sum(int(ch)**3 for ch in s)\n",
    "\n",
    "# print(is_armstrong_3(153))  # True"
   ]
  },
  {
   "cell_type": "markdown",
   "id": "c0e7403d",
   "metadata": {},
   "source": [
    "**Explanation:** This function checks if a 3-digit number is an Armstrong number, where the sum of the cubes of its digits equals the number itself. It converts the number to a string, iterates through each digit, cubes it, and sums them up for comparison. Time complexity is O(1) since it's always 3 digits, and space is O(1)."
   ]
  },
  {
   "cell_type": "markdown",
   "id": "7d5a628c",
   "metadata": {},
   "source": [
    "---\n",
    "\n",
    "## Problem 25 — GCD of two numbers\n",
    "\n",
    "Return gcd(a, b).\n",
    "\n",
    "Sample: 12, 8 -> 4"
   ]
  },
  {
   "cell_type": "code",
   "execution_count": null,
   "id": "2c590537",
   "metadata": {},
   "outputs": [],
   "source": [
    "def gcd(a, b):\n",
    "    while b:\n",
    "        a, b = b, a % b\n",
    "    return abs(a)\n",
    "\n",
    "# print(gcd(12,8))  # 4"
   ]
  },
  {
   "cell_type": "markdown",
   "id": "f20c45a8",
   "metadata": {},
   "source": [
    "**Explanation:** This function computes the Greatest Common Divisor (GCD) of two integers using the Euclidean algorithm. It repeatedly replaces a with b and b with a % b until b becomes 0, then returns the absolute value of a. This algorithm is efficient with O(log min(a, b)) time complexity and O(1) space complexity."
   ]
  },
  {
   "cell_type": "markdown",
   "id": "fd03e2d2",
   "metadata": {},
   "source": [
    "---\n",
    "\n",
    "## Problem 26 — LCM of two numbers\n",
    "\n",
    "Return lcm(a,b).\n",
    "\n",
    "Sample: 4,6 -> 12"
   ]
  },
  {
   "cell_type": "code",
   "execution_count": null,
   "id": "53cae69d",
   "metadata": {},
   "outputs": [],
   "source": [
    "def lcm(a, b):\n",
    "    if a == 0 or b == 0:\n",
    "        return 0\n",
    "    from math import gcd as _g\n",
    "    return abs(a // _g(a, b) * b)\n",
    "\n",
    "# print(lcm(4,6))  # 12"
   ]
  },
  {
   "cell_type": "markdown",
   "id": "987b7cd4",
   "metadata": {},
   "source": [
    "**Explanation:** This function calculates the Least Common Multiple (LCM) of two integers using the formula LCM(a, b) = |a * b| / GCD(a, b). It handles the case where either number is 0 by returning 0. The function imports math.gcd for the GCD calculation. Time complexity depends on the GCD implementation, typically O(log min(a, b)), and space is O(1)."
   ]
  },
  {
   "cell_type": "markdown",
   "id": "3989dba5",
   "metadata": {},
   "source": [
    "---\n",
    "\n",
    "## Problem 27 — Binary to decimal\n",
    "\n",
    "Convert binary string to decimal integer.\n",
    "\n",
    "Sample: '101' -> 5"
   ]
  },
  {
   "cell_type": "code",
   "execution_count": null,
   "id": "1df2b255",
   "metadata": {},
   "outputs": [],
   "source": [
    "def bin_to_dec(b):\n",
    "    return int(b, 2)\n",
    "\n",
    "# print(bin_to_dec('101'))  # 5"
   ]
  },
  {
   "cell_type": "markdown",
   "id": "6f261883",
   "metadata": {},
   "source": [
    "**Explanation:** This function converts a binary string to its decimal integer equivalent using Python's built-in int() function with base 2. It's a straightforward and efficient conversion with time complexity proportional to the string length, typically O(n) where n is the number of bits."
   ]
  },
  {
   "cell_type": "markdown",
   "id": "0376cb8a",
   "metadata": {},
   "source": [
    "---\n",
    "\n",
    "## Problem 28 — Decimal to binary\n",
    "\n",
    "Convert integer to binary string (without '0b').\n",
    "\n",
    "Sample: 5 -> '101'"
   ]
  },
  {
   "cell_type": "code",
   "execution_count": null,
   "id": "c907172c",
   "metadata": {},
   "outputs": [],
   "source": [
    "def dec_to_bin(n):\n",
    "    return bin(n)[2:]\n",
    "\n",
    "# print(dec_to_bin(5))  # '101'"
   ]
  },
  {
   "cell_type": "markdown",
   "id": "0ff6d99d",
   "metadata": {},
   "source": [
    "**Explanation:** This function converts a decimal integer to its binary string representation without the '0b' prefix. It uses Python's built-in bin() function, which returns a string starting with '0b', and slices from index 2 onwards. Time complexity is O(log n) where n is the number, as the binary representation length is logarithmic."
   ]
  },
  {
   "cell_type": "markdown",
   "id": "5114c442",
   "metadata": {},
   "source": [
    "---\n",
    "\n",
    "## Problem 29 — Check anagram\n",
    "\n",
    "Given two strings, check if anagrams (case-insensitive, ignore spaces).\n",
    "\n",
    "Sample: 'Listen', 'Silent' -> True"
   ]
  },
  {
   "cell_type": "code",
   "execution_count": null,
   "id": "ec7c170b",
   "metadata": {},
   "outputs": [],
   "source": [
    "def is_anagram(a, b):\n",
    "    sa = ''.join(sorted(a.replace(' ', '').lower()))\n",
    "    sb = ''.join(sorted(b.replace(' ', '').lower()))\n",
    "    return sa == sb\n",
    "\n",
    "# print(is_anagram('Listen','Silent'))  # True"
   ]
  },
  {
   "cell_type": "markdown",
   "id": "8953d02f",
   "metadata": {},
   "source": [
    "**Explanation:** This function checks if two strings are anagrams by normalizing them: converting to lowercase, removing spaces, sorting the characters, and comparing the sorted strings. If they match, the strings contain the same characters with the same frequencies. Time complexity is O(n log n) due to sorting, where n is the string length, and space is O(n) for the sorted strings."
   ]
  },
  {
   "cell_type": "markdown",
   "id": "692eb859",
   "metadata": {},
   "source": [
    "---\n",
    "\n",
    "## Problem 30 — Valid parentheses\n",
    "\n",
    "Check if parentheses string is valid (balanced).\n",
    "\n",
    "Sample: '()[]{}' -> True"
   ]
  },
  {
   "cell_type": "code",
   "execution_count": null,
   "id": "877e18e5",
   "metadata": {},
   "outputs": [],
   "source": [
    "def valid_parentheses(s):\n",
    "    pairs = {'(':')','[':']','{':'}'}\n",
    "    stack = []\n",
    "    for ch in s:\n",
    "        if ch in pairs:\n",
    "            stack.append(ch)\n",
    "        else:\n",
    "            if not stack: return False\n",
    "            if pairs[stack.pop()] != ch: return False\n",
    "    return not stack\n",
    "\n",
    "# print(valid_parentheses('()[]{}'))  # True"
   ]
  },
  {
   "cell_type": "markdown",
   "id": "2b98d784",
   "metadata": {},
   "source": [
    "**Explanation:** This function validates if a string of parentheses is balanced using a stack. It defines pairs in a dictionary, pushes opening brackets onto the stack, and for closing brackets, checks if the stack is not empty and the top matches the expected opening. Finally, checks if the stack is empty. Time complexity is O(n), space O(n) in the worst case."
   ]
  },
  {
   "cell_type": "markdown",
   "id": "ec50aa73",
   "metadata": {},
   "source": [
    "---\n",
    "\n",
    "## Problem 31 — Second largest element in list\n",
    "\n",
    "Return the second largest unique element.\n",
    "\n",
    "Sample: [3,1,4,4] -> 3"
   ]
  },
  {
   "cell_type": "code",
   "execution_count": null,
   "id": "a1bd6d0a",
   "metadata": {},
   "outputs": [],
   "source": [
    "def second_largest(nums):\n",
    "    s = sorted(set(nums), reverse=True)\n",
    "    return s[1] if len(s) > 1 else None\n",
    "\n",
    "# print(second_largest([3,1,4,4]))  # 3"
   ]
  },
  {
   "cell_type": "markdown",
   "id": "fa41842b",
   "metadata": {},
   "source": [
    "**Explanation:** This function finds the second largest unique element in a list. It converts the list to a set to remove duplicates, sorts it in descending order, and returns the second element if it exists, otherwise None. Time complexity is O(n log n) due to sorting, where n is the list length, and space is O(n) for the set and sorted list."
   ]
  },
  {
   "cell_type": "markdown",
   "id": "ed07eba4",
   "metadata": {},
   "source": [
    "---\n",
    "\n",
    "## Problem 32 — Transpose a matrix (2D list)\n",
    "\n",
    "Given matrix as list of lists, return its transpose.\n",
    "\n",
    "Sample: [[1,2],[3,4]] -> [[1,3],[2,4]]"
   ]
  },
  {
   "cell_type": "code",
   "execution_count": null,
   "id": "e8ac0f3c",
   "metadata": {},
   "outputs": [],
   "source": [
    "def transpose(matrix):\n",
    "    return [list(row) for row in zip(*matrix)]\n",
    "\n",
    "# print(transpose([[1,2],[3,4]]))  # [[1,3],[2,4]]"
   ]
  },
  {
   "cell_type": "markdown",
   "id": "f629e5da",
   "metadata": {},
   "source": [
    "**Explanation:** This function transposes a 2D matrix (list of lists) by using Python's zip(*matrix), which groups elements by position, and then converts the tuples back to lists. This creates a new matrix where rows become columns. Time complexity is O(m*n) where m and n are dimensions, and space is O(m*n) for the new matrix."
   ]
  },
  {
   "cell_type": "markdown",
   "id": "d1e3573b",
   "metadata": {},
   "source": [
    "---\n",
    "\n",
    "## Problem 33 — Bubble sort (ascending)\n",
    "\n",
    "Implement bubble sort and return sorted list.\n",
    "\n",
    "Sample: [3,2,1] -> [1,2,3]"
   ]
  },
  {
   "cell_type": "code",
   "execution_count": null,
   "id": "dc966b71",
   "metadata": {},
   "outputs": [],
   "source": [
    "def bubble_sort(nums):\n",
    "    a = nums[:]\n",
    "    n = len(a)\n",
    "    for i in range(n):\n",
    "        for j in range(0, n-i-1):\n",
    "            if a[j] > a[j+1]:\n",
    "                a[j], a[j+1] = a[j+1], a[j]\n",
    "    return a\n",
    "\n",
    "# print(bubble_sort([3,2,1]))  # [1,2,3]"
   ]
  },
  {
   "cell_type": "markdown",
   "id": "275da70e",
   "metadata": {},
   "source": [
    "**Explanation:** This function implements the bubble sort algorithm to sort a list in ascending order. It uses nested loops: the outer loop runs n times, the inner loop compares adjacent elements and swaps if they are in wrong order. It works on a copy of the list to avoid modifying the original. Time complexity is O(n^2) in worst and average cases, O(n) in best case (already sorted), and space is O(n) for the copy."
   ]
  },
  {
   "cell_type": "markdown",
   "id": "323d6bbf",
   "metadata": {},
   "source": [
    "---\n",
    "\n",
    "## Problem 34 — Find missing number 1..N\n",
    "\n",
    "Given list containing numbers from 1..N with one missing, find missing number.\n",
    "\n",
    "Sample: N=5, arr=[1,2,4,5] -> 3"
   ]
  },
  {
   "cell_type": "code",
   "execution_count": null,
   "id": "bbfaf0f5",
   "metadata": {},
   "outputs": [],
   "source": [
    "def find_missing(arr, n):\n",
    "    total = n*(n+1)//2\n",
    "    return total - sum(arr)\n",
    "\n",
    "# print(find_missing([1,2,4,5],5))  # 3"
   ]
  },
  {
   "cell_type": "markdown",
   "id": "4e7bb59c",
   "metadata": {},
   "source": [
    "**Explanation:** This function finds the missing number in a list containing numbers from 1 to N with one missing. It calculates the expected sum of numbers from 1 to N using the formula n*(n+1)//2, then subtracts the actual sum of the array to find the missing number. Time complexity is O(n) for summing the array, and space is O(1) extra space."
   ]
  },
  {
   "cell_type": "markdown",
   "id": "c1d24cc6",
   "metadata": {},
   "source": [
    "---\n",
    "\n",
    "## Problem 35 — Power function (fast exponentiation)\n",
    "\n",
    "Compute a^b (integers) efficiently.\n",
    "\n",
    "Sample: 2^10 -> 1024"
   ]
  },
  {
   "cell_type": "code",
   "execution_count": null,
   "id": "51450a16",
   "metadata": {},
   "outputs": [],
   "source": [
    "def power(a, b):\n",
    "    # fast exponentiation (assumes b >= 0)\n",
    "    res = 1\n",
    "    base = a\n",
    "    exp = b\n",
    "    while exp > 0:\n",
    "        if exp & 1:\n",
    "            res *= base\n",
    "        base *= base\n",
    "        exp >>= 1\n",
    "    return res\n",
    "\n",
    "# print(power(2,10))  # 1024"
   ]
  },
  {
   "cell_type": "markdown",
   "id": "47b52616",
   "metadata": {},
   "source": [
    "**Explanation:** This function computes a raised to the power b efficiently using fast exponentiation (exponentiation by squaring). It initializes result to 1, then in a loop while exponent > 0, if exponent is odd multiplies result by base, squares the base, and right-shifts the exponent. Assumes b >= 0. Time complexity is O(log b), space O(1)."
   ]
  },
  {
   "cell_type": "markdown",
   "id": "44d69288",
   "metadata": {},
   "source": [
    "---\n",
    "\n",
    "Built by Zaid Kamil with 💖 at MBU  \n",
    "[Connect me on LinkedIn](https://www.linkedin.com/in/zaidbinkamil/)"
   ]
  },
  {
   "cell_type": "markdown",
   "id": "15cb448f",
   "metadata": {},
   "source": []
  }
 ],
 "metadata": {
  "kernelspec": {
   "display_name": "python_things",
   "language": "python",
   "name": "python3"
  },
  "language_info": {
   "codemirror_mode": {
    "name": "ipython",
    "version": 3
   },
   "file_extension": ".py",
   "mimetype": "text/x-python",
   "name": "python",
   "nbconvert_exporter": "python",
   "pygments_lexer": "ipython3",
   "version": "3.13.1"
  }
 },
 "nbformat": 4,
 "nbformat_minor": 5
}
